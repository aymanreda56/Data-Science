{
  "cells": [
    {
      "cell_type": "markdown",
      "metadata": {
        "id": "SmQHi_6KTgtI"
      },
      "source": [
        "Rawaa's Qs:\n",
        "\n",
        "1.   How many close friends does a student have on average? → statistical model\n",
        "\n",
        "2.  -What’s the relationship between body level and being bullied?\n",
        "→ statistical model + graphical representation.\n",
        "3.\n",
        "\n",
        "\n",
        "\n"
      ]
    },
    {
      "cell_type": "code",
      "execution_count": 1,
      "metadata": {
        "id": "OPzZinCPlNtM"
      },
      "outputs": [],
      "source": [
        "import numpy as np\n",
        "import pandas as pd\n",
        "from scipy.stats import chi2_contingency\n",
        "import missingno as msno\n",
        "import matplotlib.pyplot as plt\n",
        "from sklearn.impute import KNNImputer\n",
        "from sklearn.preprocessing import LabelEncoder\n",
        "from ipykernel import kernelapp as app"
      ]
    },
    {
      "cell_type": "code",
      "execution_count": null,
      "metadata": {
        "id": "0C5i74X8WvzN"
      },
      "outputs": [],
      "source": [
        "# from google.colab import drive\n",
        "# drive.mount('/content/drive')"
      ]
    },
    {
      "cell_type": "code",
      "execution_count": 2,
      "metadata": {
        "id": "j6Pe5CmZWl91"
      },
      "outputs": [],
      "source": [
        "df=pd.read_csv('Bullying.csv', sep=r';') "
      ]
    },
    {
      "cell_type": "code",
      "execution_count": 3,
      "metadata": {
        "colab": {
          "base_uri": "https://localhost:8080/"
        },
        "id": "vKTofTzckXfL",
        "outputId": "e46a675e-6940-4dd8-cf0f-ed1130bfb888"
      },
      "outputs": [
        {
          "name": "stdout",
          "output_type": "stream",
          "text": [
            "<class 'pandas.core.frame.DataFrame'>\n",
            "RangeIndex: 56981 entries, 0 to 56980\n",
            "Data columns (total 18 columns):\n",
            " #   Column                                            Non-Null Count  Dtype \n",
            "---  ------                                            --------------  ----- \n",
            " 0   record                                            56981 non-null  int64 \n",
            " 1   Bullied_on_school_property_in_past_12_months      56981 non-null  object\n",
            " 2   Bullied_not_on_school_property_in_past_12_months  56981 non-null  object\n",
            " 3   Cyber_bullied_in_past_12_months                   56981 non-null  object\n",
            " 4   Custom_Age                                        56981 non-null  object\n",
            " 5   Sex                                               56981 non-null  object\n",
            " 6   Physically_attacked                               56981 non-null  object\n",
            " 7   Physical_fighting                                 56981 non-null  object\n",
            " 8   Felt_lonely                                       56981 non-null  object\n",
            " 9   Close_friends                                     56981 non-null  object\n",
            " 10  Miss_school_no_permission                         56981 non-null  object\n",
            " 11  Other_students_kind_and_helpful                   56981 non-null  object\n",
            " 12  Parents_understand_problems                       56981 non-null  object\n",
            " 13  Most_of_the_time_or_always_felt_lonely            56981 non-null  object\n",
            " 14  Missed_classes_or_school_without_permission       56981 non-null  object\n",
            " 15  Were_underweight                                  56981 non-null  object\n",
            " 16  Were_overweight                                   56981 non-null  object\n",
            " 17  Were_obese                                        56981 non-null  object\n",
            "dtypes: int64(1), object(17)\n",
            "memory usage: 7.8+ MB\n"
          ]
        }
      ],
      "source": [
        "df.info()"
      ]
    },
    {
      "cell_type": "code",
      "execution_count": 4,
      "metadata": {
        "colab": {
          "base_uri": "https://localhost:8080/",
          "height": 270
        },
        "id": "MfFm-pZWkeI4",
        "outputId": "d55dd6a7-7cf5-45d4-fa8b-18f93456095a"
      },
      "outputs": [
        {
          "data": {
            "text/html": [
              "<div>\n",
              "<style scoped>\n",
              "    .dataframe tbody tr th:only-of-type {\n",
              "        vertical-align: middle;\n",
              "    }\n",
              "\n",
              "    .dataframe tbody tr th {\n",
              "        vertical-align: top;\n",
              "    }\n",
              "\n",
              "    .dataframe thead th {\n",
              "        text-align: right;\n",
              "    }\n",
              "</style>\n",
              "<table border=\"1\" class=\"dataframe\">\n",
              "  <thead>\n",
              "    <tr style=\"text-align: right;\">\n",
              "      <th></th>\n",
              "      <th>record</th>\n",
              "      <th>Bullied_on_school_property_in_past_12_months</th>\n",
              "      <th>Bullied_not_on_school_property_in_past_12_months</th>\n",
              "      <th>Cyber_bullied_in_past_12_months</th>\n",
              "      <th>Custom_Age</th>\n",
              "      <th>Sex</th>\n",
              "      <th>Physically_attacked</th>\n",
              "      <th>Physical_fighting</th>\n",
              "      <th>Felt_lonely</th>\n",
              "      <th>Close_friends</th>\n",
              "      <th>Miss_school_no_permission</th>\n",
              "      <th>Other_students_kind_and_helpful</th>\n",
              "      <th>Parents_understand_problems</th>\n",
              "      <th>Most_of_the_time_or_always_felt_lonely</th>\n",
              "      <th>Missed_classes_or_school_without_permission</th>\n",
              "      <th>Were_underweight</th>\n",
              "      <th>Were_overweight</th>\n",
              "      <th>Were_obese</th>\n",
              "    </tr>\n",
              "  </thead>\n",
              "  <tbody>\n",
              "    <tr>\n",
              "      <th>0</th>\n",
              "      <td>1</td>\n",
              "      <td>Yes</td>\n",
              "      <td>Yes</td>\n",
              "      <td></td>\n",
              "      <td>13 years old</td>\n",
              "      <td>Female</td>\n",
              "      <td>0 times</td>\n",
              "      <td>0 times</td>\n",
              "      <td>Always</td>\n",
              "      <td>2</td>\n",
              "      <td>10 or more days</td>\n",
              "      <td>Never</td>\n",
              "      <td>Always</td>\n",
              "      <td>Yes</td>\n",
              "      <td>Yes</td>\n",
              "      <td></td>\n",
              "      <td></td>\n",
              "      <td></td>\n",
              "    </tr>\n",
              "    <tr>\n",
              "      <th>1</th>\n",
              "      <td>2</td>\n",
              "      <td>No</td>\n",
              "      <td>No</td>\n",
              "      <td>No</td>\n",
              "      <td>13 years old</td>\n",
              "      <td>Female</td>\n",
              "      <td>0 times</td>\n",
              "      <td>0 times</td>\n",
              "      <td>Never</td>\n",
              "      <td>3 or more</td>\n",
              "      <td>0 days</td>\n",
              "      <td>Sometimes</td>\n",
              "      <td>Always</td>\n",
              "      <td>No</td>\n",
              "      <td>No</td>\n",
              "      <td></td>\n",
              "      <td></td>\n",
              "      <td></td>\n",
              "    </tr>\n",
              "    <tr>\n",
              "      <th>2</th>\n",
              "      <td>3</td>\n",
              "      <td>No</td>\n",
              "      <td>No</td>\n",
              "      <td>No</td>\n",
              "      <td>14 years old</td>\n",
              "      <td>Male</td>\n",
              "      <td>0 times</td>\n",
              "      <td>0 times</td>\n",
              "      <td>Never</td>\n",
              "      <td>3 or more</td>\n",
              "      <td>0 days</td>\n",
              "      <td>Sometimes</td>\n",
              "      <td>Always</td>\n",
              "      <td>No</td>\n",
              "      <td>No</td>\n",
              "      <td>No</td>\n",
              "      <td>No</td>\n",
              "      <td>No</td>\n",
              "    </tr>\n",
              "    <tr>\n",
              "      <th>3</th>\n",
              "      <td>4</td>\n",
              "      <td>No</td>\n",
              "      <td>No</td>\n",
              "      <td>No</td>\n",
              "      <td>16 years old</td>\n",
              "      <td>Male</td>\n",
              "      <td>0 times</td>\n",
              "      <td>2 or 3 times</td>\n",
              "      <td>Never</td>\n",
              "      <td>3 or more</td>\n",
              "      <td>0 days</td>\n",
              "      <td>Sometimes</td>\n",
              "      <td></td>\n",
              "      <td>No</td>\n",
              "      <td>No</td>\n",
              "      <td>No</td>\n",
              "      <td>No</td>\n",
              "      <td>No</td>\n",
              "    </tr>\n",
              "    <tr>\n",
              "      <th>4</th>\n",
              "      <td>5</td>\n",
              "      <td>No</td>\n",
              "      <td>No</td>\n",
              "      <td>No</td>\n",
              "      <td>13 years old</td>\n",
              "      <td>Female</td>\n",
              "      <td>0 times</td>\n",
              "      <td>0 times</td>\n",
              "      <td>Rarely</td>\n",
              "      <td>3 or more</td>\n",
              "      <td>0 days</td>\n",
              "      <td>Most of the time</td>\n",
              "      <td>Most of the time</td>\n",
              "      <td>No</td>\n",
              "      <td>No</td>\n",
              "      <td></td>\n",
              "      <td></td>\n",
              "      <td></td>\n",
              "    </tr>\n",
              "  </tbody>\n",
              "</table>\n",
              "</div>"
            ],
            "text/plain": [
              "   record Bullied_on_school_property_in_past_12_months   \n",
              "0       1                                          Yes  \\\n",
              "1       2                                           No   \n",
              "2       3                                           No   \n",
              "3       4                                           No   \n",
              "4       5                                           No   \n",
              "\n",
              "  Bullied_not_on_school_property_in_past_12_months   \n",
              "0                                              Yes  \\\n",
              "1                                               No   \n",
              "2                                               No   \n",
              "3                                               No   \n",
              "4                                               No   \n",
              "\n",
              "  Cyber_bullied_in_past_12_months    Custom_Age     Sex Physically_attacked   \n",
              "0                                  13 years old  Female             0 times  \\\n",
              "1                              No  13 years old  Female             0 times   \n",
              "2                              No  14 years old    Male             0 times   \n",
              "3                              No  16 years old    Male             0 times   \n",
              "4                              No  13 years old  Female             0 times   \n",
              "\n",
              "  Physical_fighting Felt_lonely Close_friends Miss_school_no_permission   \n",
              "0           0 times      Always             2           10 or more days  \\\n",
              "1           0 times       Never     3 or more                    0 days   \n",
              "2           0 times       Never     3 or more                    0 days   \n",
              "3      2 or 3 times       Never     3 or more                    0 days   \n",
              "4           0 times      Rarely     3 or more                    0 days   \n",
              "\n",
              "  Other_students_kind_and_helpful Parents_understand_problems   \n",
              "0                           Never                      Always  \\\n",
              "1                       Sometimes                      Always   \n",
              "2                       Sometimes                      Always   \n",
              "3                       Sometimes                               \n",
              "4                Most of the time            Most of the time   \n",
              "\n",
              "  Most_of_the_time_or_always_felt_lonely   \n",
              "0                                    Yes  \\\n",
              "1                                     No   \n",
              "2                                     No   \n",
              "3                                     No   \n",
              "4                                     No   \n",
              "\n",
              "  Missed_classes_or_school_without_permission Were_underweight   \n",
              "0                                         Yes                   \\\n",
              "1                                          No                    \n",
              "2                                          No               No   \n",
              "3                                          No               No   \n",
              "4                                          No                    \n",
              "\n",
              "  Were_overweight Were_obese  \n",
              "0                             \n",
              "1                             \n",
              "2              No         No  \n",
              "3              No         No  \n",
              "4                             "
            ]
          },
          "execution_count": 4,
          "metadata": {},
          "output_type": "execute_result"
        }
      ],
      "source": [
        "df.head(5)"
      ]
    },
    {
      "cell_type": "code",
      "execution_count": 5,
      "metadata": {
        "colab": {
          "base_uri": "https://localhost:8080/"
        },
        "id": "lllyo-64kNn4",
        "outputId": "993bc32a-ff9f-4820-c3a7-1cc8971b021e"
      },
      "outputs": [
        {
          "data": {
            "text/plain": [
              "(56981, 18)"
            ]
          },
          "execution_count": 5,
          "metadata": {},
          "output_type": "execute_result"
        }
      ],
      "source": [
        "df.shape"
      ]
    },
    {
      "cell_type": "code",
      "execution_count": 6,
      "metadata": {
        "id": "Uax0YAGXk-ib"
      },
      "outputs": [],
      "source": [
        "df.replace(r'^\\s*$', np.nan, regex=True, inplace=True)"
      ]
    },
    {
      "cell_type": "code",
      "execution_count": 7,
      "metadata": {
        "colab": {
          "base_uri": "https://localhost:8080/"
        },
        "id": "WNtPT0IiWxJ2",
        "outputId": "64c5e79d-69fa-406f-c219-0b75e1caafbc"
      },
      "outputs": [
        {
          "data": {
            "text/plain": [
              "record                                                  0\n",
              "Bullied_on_school_property_in_past_12_months         1239\n",
              "Bullied_not_on_school_property_in_past_12_months      489\n",
              "Cyber_bullied_in_past_12_months                       571\n",
              "Custom_Age                                            108\n",
              "Sex                                                   536\n",
              "Physically_attacked                                   240\n",
              "Physical_fighting                                     268\n",
              "Felt_lonely                                           366\n",
              "Close_friends                                        1076\n",
              "Miss_school_no_permission                            1864\n",
              "Other_students_kind_and_helpful                      1559\n",
              "Parents_understand_problems                          2373\n",
              "Most_of_the_time_or_always_felt_lonely                366\n",
              "Missed_classes_or_school_without_permission          1864\n",
              "Were_underweight                                    20929\n",
              "Were_overweight                                     20929\n",
              "Were_obese                                          20929\n",
              "dtype: int64"
            ]
          },
          "execution_count": 7,
          "metadata": {},
          "output_type": "execute_result"
        }
      ],
      "source": [
        "df.isnull().sum()"
      ]
    },
    {
      "cell_type": "code",
      "execution_count": 14,
      "metadata": {
        "colab": {
          "base_uri": "https://localhost:8080/"
        },
        "id": "uDlUoBaVtpN7",
        "outputId": "3d74e38b-1f62-4563-8c69-655d6cd4d1e3"
      },
      "outputs": [
        {
          "data": {
            "text/plain": [
              "0        NaN\n",
              "1        NaN\n",
              "2        1.0\n",
              "3        1.0\n",
              "4        NaN\n",
              "        ... \n",
              "56976    2.0\n",
              "56977    NaN\n",
              "56978    NaN\n",
              "56979    NaN\n",
              "56980    1.0\n",
              "Name: body_level, Length: 56981, dtype: float64"
            ]
          },
          "execution_count": 14,
          "metadata": {},
          "output_type": "execute_result"
        }
      ],
      "source": [
        "df['body_level']=[1]*df.shape[0]\n",
        "df.loc[df[df['Were_underweight']=='Yes'].index,'body_level'] = 0\n",
        "df.loc[df[df['Were_overweight']=='Yes'].index,'body_level'] = 2\n",
        "df.loc[df[df['Were_obese']=='Yes'].index,'body_level'] = 3\n",
        "df.loc[df[df['Were_obese'].isnull()].index,'body_level'] = np.nan\n",
        "\n",
        "df['body_level']"
      ]
    },
    {
      "cell_type": "code",
      "execution_count": 15,
      "metadata": {
        "colab": {
          "base_uri": "https://localhost:8080/",
          "height": 923
        },
        "id": "veh25S41U5Rx",
        "outputId": "9362e308-5090-4006-e924-f2cb94dfaf94"
      },
      "outputs": [
        {
          "name": "stderr",
          "output_type": "stream",
          "text": [
            "C:\\Users\\swak\\AppData\\Local\\Temp\\ipykernel_12004\\2883410477.py:15: UserWarning: FixedFormatter should only be used together with FixedLocator\n",
            "  ax1.set_xticklabels(missing_perc_sorted.index, rotation=90)\n"
          ]
        },
        {
          "data": {
            "image/png": "[encoded data removed]",
            "text/plain": [
              "<Figure size 1000x600 with 2 Axes>"
            ]
          },
          "metadata": {},
          "output_type": "display_data"
        }
      ],
      "source": [
        "# Calculate the percentage of missing values in each column\n",
        "missing_perc = (df.isnull().sum() / len(df)) * 100\n",
        "\n",
        "# Sort the columns by percentage of missing values in descending order\n",
        "missing_perc_sorted = missing_perc.sort_values(ascending=False)\n",
        "\n",
        "# Calculate the cumulative percentage of missing values\n",
        "cumulative_perc = missing_perc_sorted.cumsum()\n",
        "\n",
        "# Create a Pareto chart\n",
        "fig, ax1 = plt.subplots(figsize=(10, 6))\n",
        "ax1.bar(missing_perc_sorted.index, missing_perc_sorted.values, color='tab:blue')\n",
        "ax1.set_xlabel('Columns')\n",
        "ax1.set_ylabel('Percentage of missing values', color='tab:blue')\n",
        "ax1.set_xticklabels(missing_perc_sorted.index, rotation=90)\n",
        "\n",
        "# Add a secondary y-axis for the cumulative percentage\n",
        "ax2 = ax1.twinx()\n",
        "ax2.plot(missing_perc_sorted.index, cumulative_perc.values, color='tab:red', marker='o')\n",
        "ax2.set_ylabel('Cumulative percentage', color='tab:red')\n",
        "\n",
        "\n",
        "# Rotate the x-axis labels for better visibility\n",
        "plt.xticks(rotation=90)\n",
        "\n",
        "# Show the plot\n",
        "plt.show()"
      ]
    },
    {
      "cell_type": "code",
      "execution_count": null,
      "metadata": {
        "id": "reamKEuZ4l9Q"
      },
      "outputs": [],
      "source": [
        "# print(\"Percent of missing values for each column is:\")\n",
        "# for col in df.columns:\n",
        "#     percent_missing_value = (df[col].isnull().sum()/df.shape[0])\n",
        "#     print(col, \" : \", percent_missing_value)\n"
      ]
    },
    {
      "cell_type": "code",
      "execution_count": null,
      "metadata": {
        "id": "VIS5QQW234Lk"
      },
      "outputs": [],
      "source": [
        "# df[\"body_level_missing\"] = False\n",
        "# df.loc[df[df['body_level'].isnull()].index, \"body_level_missing\"] = True"
      ]
    },
    {
      "cell_type": "code",
      "execution_count": 16,
      "metadata": {
        "id": "8nxfQmzk5jIh"
      },
      "outputs": [],
      "source": [
        "df.to_csv('processed_Bullying_v1.csv')"
      ]
    },
    {
      "cell_type": "code",
      "execution_count": 17,
      "metadata": {
        "colab": {
          "base_uri": "https://localhost:8080/"
        },
        "id": "bQy6jOdoswIn",
        "outputId": "464bc4ea-dec3-4adb-d13b-50561c101897"
      },
      "outputs": [
        {
          "name": "stdout",
          "output_type": "stream",
          "text": [
            "body_level\n",
            "1.0    24644\n",
            "2.0     8020\n",
            "3.0     2655\n",
            "0.0      733\n",
            "Name: count, dtype: int64\n"
          ]
        }
      ],
      "source": [
        "value_counts = df['body_level'].value_counts()\n",
        "\n",
        "print(value_counts)"
      ]
    },
    {
      "cell_type": "code",
      "execution_count": null,
      "metadata": {
        "colab": {
          "base_uri": "https://localhost:8080/"
        },
        "id": "AEVY_OoNs5Tl",
        "outputId": "7a8b1326-04eb-43c2-8c4a-5eb3298ccb7e"
      },
      "outputs": [
        {
          "name": "stdout",
          "output_type": "stream",
          "text": [
            "1.0    22575\n",
            "2.0     7323\n",
            "3.0     2386\n",
            "0.0      654\n",
            "Name: body_level, dtype: int64\n"
          ]
        }
      ],
      "source": [
        "df.dropna(inplace=True)\n",
        "\n",
        "value_counts = df['body_level'].value_counts()\n",
        "\n",
        "print(value_counts)"
      ]
    },
    {
      "cell_type": "code",
      "execution_count": null,
      "metadata": {
        "id": "XTN5qa6UzjoR"
      },
      "outputs": [],
      "source": [
        "df.drop(['Were_overweight','Were_underweight','Were_obese'],\n",
        "  axis='columns', inplace=True)"
      ]
    },
    {
      "cell_type": "code",
      "execution_count": null,
      "metadata": {
        "id": "ll_gZxsbxuBv"
      },
      "outputs": [],
      "source": [
        "le = LabelEncoder()\n",
        "df['Bullied_on_school_property_in_past_12_months'] = le.fit_transform(df['Bullied_on_school_property_in_past_12_months'])\n",
        "df['Bullied_not_on_school_property_in_past_12_months'] = le.fit_transform(df['Bullied_not_on_school_property_in_past_12_months'])\n",
        "df['Cyber_bullied_in_past_12_months'] = le.fit_transform(df['Cyber_bullied_in_past_12_months'])\n",
        "df['Sex'] = le.fit_transform(df['Sex'])\n",
        "df['Felt_lonely'] = le.fit_transform(df['Felt_lonely'])\n",
        "df['Miss_school_no_permission'] = le.fit_transform(df['Miss_school_no_permission'])\n",
        "df['Other_students_kind_and_helpful'] = le.fit_transform(df['Other_students_kind_and_helpful'])\n",
        "df['Parents_understand_problems'] = le.fit_transform(df['Parents_understand_problems'])\n",
        "df['Most_of_the_time_or_always_felt_lonely'] = le.fit_transform(df['Most_of_the_time_or_always_felt_lonely'])\n",
        "df['Missed_classes_or_school_without_permission'] = le.fit_transform(df['Missed_classes_or_school_without_permission'])\n",
        "df['Custom_Age'] = le.fit_transform(df['Custom_Age'])\n",
        "df['Physically_attacked'] = le.fit_transform(df['Physically_attacked'])\n",
        "df['Physical_fighting'] = le.fit_transform(df['Physical_fighting'])\n",
        "df['Close_friends'] = le.fit_transform(df['Close_friends'])"
      ]
    },
    {
      "cell_type": "code",
      "execution_count": null,
      "metadata": {
        "colab": {
          "base_uri": "https://localhost:8080/"
        },
        "id": "VOagPCFkyVWe",
        "outputId": "f1aaccd4-b719-410e-8c87-a3fc32b26e3b"
      },
      "outputs": [
        {
          "name": "stdout",
          "output_type": "stream",
          "text": [
            "<class 'pandas.core.frame.DataFrame'>\n",
            "Int64Index: 32938 entries, 2 to 56980\n",
            "Data columns (total 16 columns):\n",
            " #   Column                                            Non-Null Count  Dtype  \n",
            "---  ------                                            --------------  -----  \n",
            " 0   record                                            32938 non-null  int64  \n",
            " 1   Bullied_on_school_property_in_past_12_months      32938 non-null  int64  \n",
            " 2   Bullied_not_on_school_property_in_past_12_months  32938 non-null  int64  \n",
            " 3   Cyber_bullied_in_past_12_months                   32938 non-null  int64  \n",
            " 4   Custom_Age                                        32938 non-null  int64  \n",
            " 5   Sex                                               32938 non-null  int64  \n",
            " 6   Physically_attacked                               32938 non-null  int64  \n",
            " 7   Physical_fighting                                 32938 non-null  int64  \n",
            " 8   Felt_lonely                                       32938 non-null  int64  \n",
            " 9   Close_friends                                     32938 non-null  int64  \n",
            " 10  Miss_school_no_permission                         32938 non-null  int64  \n",
            " 11  Other_students_kind_and_helpful                   32938 non-null  int64  \n",
            " 12  Parents_understand_problems                       32938 non-null  int64  \n",
            " 13  Most_of_the_time_or_always_felt_lonely            32938 non-null  int64  \n",
            " 14  Missed_classes_or_school_without_permission       32938 non-null  int64  \n",
            " 15  body_level                                        32938 non-null  float64\n",
            "dtypes: float64(1), int64(15)\n",
            "memory usage: 4.3 MB\n"
          ]
        }
      ],
      "source": [
        "df.info()"
      ]
    },
    {
      "cell_type": "code",
      "execution_count": null,
      "metadata": {
        "id": "rrFs4osazvJb"
      },
      "outputs": [],
      "source": [
        "df.to_csv('/content/drive/MyDrive/processed_Bullying_v2.csv')"
      ]
    }
  ],
  "metadata": {
    "colab": {
      "provenance": []
    },
    "kernelspec": {
      "display_name": "Python 3",
      "name": "python3"
    },
    "language_info": {
      "codemirror_mode": {
        "name": "ipython",
        "version": 3
      },
      "file_extension": ".py",
      "mimetype": "text/x-python",
      "name": "python",
      "nbconvert_exporter": "python",
      "pygments_lexer": "ipython3",
      "version": "3.11.3"
    }
  },
  "nbformat": 4,
  "nbformat_minor": 0
}

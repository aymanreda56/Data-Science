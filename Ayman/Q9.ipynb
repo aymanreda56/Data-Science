{
 "cells": [
  {
   "cell_type": "code",
   "execution_count": 1,
   "metadata": {},
   "outputs": [],
   "source": [
    "import pandas as pd\n",
    "import numpy as np\n",
    "from sklearn.preprocessing import LabelEncoder\n",
    "\n"
   ]
  },
  {
   "cell_type": "code",
   "execution_count": 2,
   "metadata": {},
   "outputs": [
    {
     "data": {
      "text/html": [
       "<div>\n",
       "<style scoped>\n",
       "    .dataframe tbody tr th:only-of-type {\n",
       "        vertical-align: middle;\n",
       "    }\n",
       "\n",
       "    .dataframe tbody tr th {\n",
       "        vertical-align: top;\n",
       "    }\n",
       "\n",
       "    .dataframe thead th {\n",
       "        text-align: right;\n",
       "    }\n",
       "</style>\n",
       "<table border=\"1\" class=\"dataframe\">\n",
       "  <thead>\n",
       "    <tr style=\"text-align: right;\">\n",
       "      <th></th>\n",
       "      <th>record</th>\n",
       "      <th>Bullied_on_school_property_in_past_12_months</th>\n",
       "      <th>Bullied_not_on_school_property_in_past_12_months</th>\n",
       "      <th>Cyber_bullied_in_past_12_months</th>\n",
       "      <th>Custom_Age</th>\n",
       "      <th>Sex</th>\n",
       "      <th>Physically_attacked</th>\n",
       "      <th>Physical_fighting</th>\n",
       "      <th>Felt_lonely</th>\n",
       "      <th>Close_friends</th>\n",
       "      <th>Miss_school_no_permission</th>\n",
       "      <th>Other_students_kind_and_helpful</th>\n",
       "      <th>Parents_understand_problems</th>\n",
       "      <th>Most_of_the_time_or_always_felt_lonely</th>\n",
       "      <th>Missed_classes_or_school_without_permission</th>\n",
       "      <th>body_level</th>\n",
       "      <th>engaged_in_a_fight</th>\n",
       "    </tr>\n",
       "  </thead>\n",
       "  <tbody>\n",
       "    <tr>\n",
       "      <th>0</th>\n",
       "      <td>3</td>\n",
       "      <td>No</td>\n",
       "      <td>No</td>\n",
       "      <td>No</td>\n",
       "      <td>14</td>\n",
       "      <td>Male</td>\n",
       "      <td>0</td>\n",
       "      <td>0</td>\n",
       "      <td>Never</td>\n",
       "      <td>3 or more</td>\n",
       "      <td>0</td>\n",
       "      <td>Sometimes</td>\n",
       "      <td>Always</td>\n",
       "      <td>No</td>\n",
       "      <td>False</td>\n",
       "      <td>1.0</td>\n",
       "      <td>False</td>\n",
       "    </tr>\n",
       "    <tr>\n",
       "      <th>1</th>\n",
       "      <td>6</td>\n",
       "      <td>No</td>\n",
       "      <td>No</td>\n",
       "      <td>No</td>\n",
       "      <td>13</td>\n",
       "      <td>Male</td>\n",
       "      <td>0</td>\n",
       "      <td>1</td>\n",
       "      <td>Never</td>\n",
       "      <td>3 or more</td>\n",
       "      <td>0</td>\n",
       "      <td>Most of the time</td>\n",
       "      <td>Always</td>\n",
       "      <td>No</td>\n",
       "      <td>False</td>\n",
       "      <td>1.0</td>\n",
       "      <td>True</td>\n",
       "    </tr>\n",
       "    <tr>\n",
       "      <th>2</th>\n",
       "      <td>11</td>\n",
       "      <td>No</td>\n",
       "      <td>No</td>\n",
       "      <td>No</td>\n",
       "      <td>15</td>\n",
       "      <td>Male</td>\n",
       "      <td>0</td>\n",
       "      <td>1</td>\n",
       "      <td>Never</td>\n",
       "      <td>3 or more</td>\n",
       "      <td>3</td>\n",
       "      <td>Most of the time</td>\n",
       "      <td>Always</td>\n",
       "      <td>No</td>\n",
       "      <td>True</td>\n",
       "      <td>1.0</td>\n",
       "      <td>True</td>\n",
       "    </tr>\n",
       "    <tr>\n",
       "      <th>3</th>\n",
       "      <td>23</td>\n",
       "      <td>No</td>\n",
       "      <td>No</td>\n",
       "      <td>Yes</td>\n",
       "      <td>13</td>\n",
       "      <td>Male</td>\n",
       "      <td>0</td>\n",
       "      <td>2</td>\n",
       "      <td>Most of the time</td>\n",
       "      <td>3 or more</td>\n",
       "      <td>0</td>\n",
       "      <td>Rarely</td>\n",
       "      <td>Always</td>\n",
       "      <td>Yes</td>\n",
       "      <td>False</td>\n",
       "      <td>1.0</td>\n",
       "      <td>True</td>\n",
       "    </tr>\n",
       "    <tr>\n",
       "      <th>4</th>\n",
       "      <td>24</td>\n",
       "      <td>No</td>\n",
       "      <td>No</td>\n",
       "      <td>No</td>\n",
       "      <td>14</td>\n",
       "      <td>Male</td>\n",
       "      <td>0</td>\n",
       "      <td>2</td>\n",
       "      <td>Most of the time</td>\n",
       "      <td>2</td>\n",
       "      <td>0</td>\n",
       "      <td>Always</td>\n",
       "      <td>Sometimes</td>\n",
       "      <td>Yes</td>\n",
       "      <td>False</td>\n",
       "      <td>3.0</td>\n",
       "      <td>True</td>\n",
       "    </tr>\n",
       "  </tbody>\n",
       "</table>\n",
       "</div>"
      ],
      "text/plain": [
       "   record Bullied_on_school_property_in_past_12_months   \n",
       "0       3                                           No  \\\n",
       "1       6                                           No   \n",
       "2      11                                           No   \n",
       "3      23                                           No   \n",
       "4      24                                           No   \n",
       "\n",
       "  Bullied_not_on_school_property_in_past_12_months   \n",
       "0                                               No  \\\n",
       "1                                               No   \n",
       "2                                               No   \n",
       "3                                               No   \n",
       "4                                               No   \n",
       "\n",
       "  Cyber_bullied_in_past_12_months  Custom_Age   Sex  Physically_attacked   \n",
       "0                              No          14  Male                    0  \\\n",
       "1                              No          13  Male                    0   \n",
       "2                              No          15  Male                    0   \n",
       "3                             Yes          13  Male                    0   \n",
       "4                              No          14  Male                    0   \n",
       "\n",
       "   Physical_fighting       Felt_lonely Close_friends   \n",
       "0                  0             Never     3 or more  \\\n",
       "1                  1             Never     3 or more   \n",
       "2                  1             Never     3 or more   \n",
       "3                  2  Most of the time     3 or more   \n",
       "4                  2  Most of the time             2   \n",
       "\n",
       "   Miss_school_no_permission Other_students_kind_and_helpful   \n",
       "0                          0                       Sometimes  \\\n",
       "1                          0                Most of the time   \n",
       "2                          3                Most of the time   \n",
       "3                          0                          Rarely   \n",
       "4                          0                          Always   \n",
       "\n",
       "  Parents_understand_problems Most_of_the_time_or_always_felt_lonely   \n",
       "0                      Always                                     No  \\\n",
       "1                      Always                                     No   \n",
       "2                      Always                                     No   \n",
       "3                      Always                                    Yes   \n",
       "4                   Sometimes                                    Yes   \n",
       "\n",
       "   Missed_classes_or_school_without_permission  body_level  engaged_in_a_fight  \n",
       "0                                        False         1.0               False  \n",
       "1                                        False         1.0                True  \n",
       "2                                         True         1.0                True  \n",
       "3                                        False         1.0                True  \n",
       "4                                        False         3.0                True  "
      ]
     },
     "execution_count": 2,
     "metadata": {},
     "output_type": "execute_result"
    }
   ],
   "source": [
    "df = pd.read_csv('processed_Bullying_Ayman.csv')\n",
    "df.drop(columns=df.columns[0], inplace=True)\n",
    "df.head()"
   ]
  },
  {
   "cell_type": "code",
   "execution_count": 3,
   "metadata": {},
   "outputs": [
    {
     "name": "stdout",
     "output_type": "stream",
     "text": [
      "<class 'pandas.core.frame.DataFrame'>\n",
      "RangeIndex: 32938 entries, 0 to 32937\n",
      "Data columns (total 17 columns):\n",
      " #   Column                                            Non-Null Count  Dtype  \n",
      "---  ------                                            --------------  -----  \n",
      " 0   record                                            32938 non-null  int64  \n",
      " 1   Bullied_on_school_property_in_past_12_months      32938 non-null  object \n",
      " 2   Bullied_not_on_school_property_in_past_12_months  32938 non-null  object \n",
      " 3   Cyber_bullied_in_past_12_months                   32938 non-null  object \n",
      " 4   Custom_Age                                        32938 non-null  int64  \n",
      " 5   Sex                                               32938 non-null  object \n",
      " 6   Physically_attacked                               32938 non-null  int64  \n",
      " 7   Physical_fighting                                 32938 non-null  int64  \n",
      " 8   Felt_lonely                                       32938 non-null  object \n",
      " 9   Close_friends                                     32938 non-null  object \n",
      " 10  Miss_school_no_permission                         32938 non-null  int64  \n",
      " 11  Other_students_kind_and_helpful                   32938 non-null  object \n",
      " 12  Parents_understand_problems                       32938 non-null  object \n",
      " 13  Most_of_the_time_or_always_felt_lonely            32938 non-null  object \n",
      " 14  Missed_classes_or_school_without_permission       32938 non-null  bool   \n",
      " 15  body_level                                        32938 non-null  float64\n",
      " 16  engaged_in_a_fight                                32938 non-null  bool   \n",
      "dtypes: bool(2), float64(1), int64(5), object(9)\n",
      "memory usage: 3.8+ MB\n"
     ]
    }
   ],
   "source": [
    "df.info()"
   ]
  },
  {
   "cell_type": "code",
   "execution_count": 4,
   "metadata": {},
   "outputs": [],
   "source": [
    "#we will merge both 'bullyed not on school property' and 'cyberbullied' into one column named 'bull outside school'\n",
    "#this column we will use as our bigger population dataset, which we will infer our insights from the smaller column 'bullied in school'\n"
   ]
  },
  {
   "cell_type": "code",
   "execution_count": 5,
   "metadata": {},
   "outputs": [
    {
     "name": "stdout",
     "output_type": "stream",
     "text": [
      "unique values for Felt_lonely column: \n",
      "['Never' 'Most of the time' 'Rarely' 'Sometimes' 'Always']\n"
     ]
    },
    {
     "data": {
      "text/plain": [
       "0    0\n",
       "1    0\n",
       "2    0\n",
       "3    3\n",
       "4    3\n",
       "Name: Felt_lonely, dtype: int64"
      ]
     },
     "execution_count": 5,
     "metadata": {},
     "output_type": "execute_result"
    }
   ],
   "source": [
    "print(f\"unique values for Felt_lonely column: \\n{df['Felt_lonely'].unique()}\")\n",
    "#can be ordered by [Never, Rarely, Sometimes, Most of the time, Always]\n",
    "Loneliness_list = ['Never', 'Rarely', 'Sometimes', 'Most of the time', 'Always']\n",
    "df['Felt_lonely']=df['Felt_lonely'].apply(lambda x: Loneliness_list.index(str(x)))\n",
    "\n",
    "df['Felt_lonely'].head()\n",
    "#now the column Felt Lonely is correctly encoded"
   ]
  },
  {
   "cell_type": "code",
   "execution_count": 6,
   "metadata": {},
   "outputs": [
    {
     "name": "stdout",
     "output_type": "stream",
     "text": [
      "unique values for Close_friends column : \n",
      "['3 or more' '2' '0' '1']\n"
     ]
    },
    {
     "data": {
      "text/plain": [
       "0    3\n",
       "1    3\n",
       "2    3\n",
       "3    3\n",
       "4    2\n",
       "Name: Close_friends, dtype: int64"
      ]
     },
     "execution_count": 6,
     "metadata": {},
     "output_type": "execute_result"
    }
   ],
   "source": [
    "print(f\"unique values for Close_friends column : \\n{df['Close_friends'].unique()}\")\n",
    "#can be ordered by [0, 1, 2, 3 or more]\n",
    "Close_friends_list = ['0', '1', '2', '3 or more']\n",
    "df['Close_friends']=df['Close_friends'].apply(lambda x: Close_friends_list.index(str(x)))\n",
    "\n",
    "df['Close_friends'].head()\n",
    "#now the column Close_friends Lonely is correctly encoded"
   ]
  },
  {
   "cell_type": "code",
   "execution_count": 7,
   "metadata": {},
   "outputs": [
    {
     "name": "stdout",
     "output_type": "stream",
     "text": [
      "unique values for Other_students_kind column : \n",
      "['Sometimes' 'Most of the time' 'Rarely' 'Always' 'Never']\n"
     ]
    },
    {
     "data": {
      "text/plain": [
       "0    2\n",
       "1    3\n",
       "2    3\n",
       "3    1\n",
       "4    4\n",
       "Name: Other_students_kind_and_helpful, dtype: int64"
      ]
     },
     "execution_count": 7,
     "metadata": {},
     "output_type": "execute_result"
    }
   ],
   "source": [
    "print(f\"unique values for Other_students_kind column : \\n{df['Other_students_kind_and_helpful'].unique()}\")\n",
    "#can be ordered by ['Never','Rarely', 'Sometimes', 'Most of the time' , 'Always' ]\n",
    "\n",
    "Other_students_kind_and_helpful_list = ['Never','Rarely', 'Sometimes', 'Most of the time' , 'Always' ]\n",
    "df['Other_students_kind_and_helpful']=df['Other_students_kind_and_helpful'].apply(lambda x: Other_students_kind_and_helpful_list.index(str(x)))\n",
    "\n",
    "df['Other_students_kind_and_helpful'].head()\n",
    "#now the column Other_students_kind_and_helpful Lonely is correctly encoded\n",
    "\n"
   ]
  },
  {
   "cell_type": "code",
   "execution_count": 8,
   "metadata": {},
   "outputs": [
    {
     "name": "stdout",
     "output_type": "stream",
     "text": [
      "unique values for Parents_understand_problems column : \n",
      "['Always' 'Sometimes' 'Rarely' 'Most of the time' 'Never']\n"
     ]
    },
    {
     "data": {
      "text/plain": [
       "0    4\n",
       "1    4\n",
       "2    4\n",
       "3    4\n",
       "4    2\n",
       "Name: Parents_understand_problems, dtype: int64"
      ]
     },
     "execution_count": 8,
     "metadata": {},
     "output_type": "execute_result"
    }
   ],
   "source": [
    "print(f\"unique values for Parents_understand_problems column : \\n{df['Parents_understand_problems'].unique()}\")\n",
    "#can be ordered by ['Never','Rarely', 'Sometimes', 'Most of the time' , 'Always' ]\n",
    "\n",
    "Parents_understand_problems_list = ['Never','Rarely', 'Sometimes', 'Most of the time' , 'Always' ]\n",
    "df['Parents_understand_problems']=df['Parents_understand_problems'].apply(lambda x: Parents_understand_problems_list.index(str(x)))\n",
    "\n",
    "df['Parents_understand_problems'].head()\n",
    "#now the column Parents_understand_problems Lonely is correctly encoded\n",
    "\n"
   ]
  },
  {
   "cell_type": "code",
   "execution_count": 9,
   "metadata": {},
   "outputs": [],
   "source": [
    "df.loc[df['Most_of_the_time_or_always_felt_lonely'] == 'Yes', 'Most_of_the_time_or_always_felt_lonely'] = True\n",
    "df.loc[df['Most_of_the_time_or_always_felt_lonely'] == 'No', 'Most_of_the_time_or_always_felt_lonely'] = False\n",
    "df['Most_of_the_time_or_always_felt_lonely'] = df['Most_of_the_time_or_always_felt_lonely'].astype('bool')\n",
    "\n",
    "encoderr = LabelEncoder()\n",
    "df['Sex'] = encoderr.fit_transform(df['Sex'])\n",
    "df['Sex'] = df['Sex'].astype('int64')"
   ]
  },
  {
   "cell_type": "code",
   "execution_count": 10,
   "metadata": {},
   "outputs": [
    {
     "data": {
      "text/html": [
       "<div>\n",
       "<style scoped>\n",
       "    .dataframe tbody tr th:only-of-type {\n",
       "        vertical-align: middle;\n",
       "    }\n",
       "\n",
       "    .dataframe tbody tr th {\n",
       "        vertical-align: top;\n",
       "    }\n",
       "\n",
       "    .dataframe thead th {\n",
       "        text-align: right;\n",
       "    }\n",
       "</style>\n",
       "<table border=\"1\" class=\"dataframe\">\n",
       "  <thead>\n",
       "    <tr style=\"text-align: right;\">\n",
       "      <th></th>\n",
       "      <th>record</th>\n",
       "      <th>Custom_Age</th>\n",
       "      <th>Sex</th>\n",
       "      <th>Physically_attacked</th>\n",
       "      <th>Physical_fighting</th>\n",
       "      <th>Felt_lonely</th>\n",
       "      <th>Close_friends</th>\n",
       "      <th>Miss_school_no_permission</th>\n",
       "      <th>Other_students_kind_and_helpful</th>\n",
       "      <th>Parents_understand_problems</th>\n",
       "      <th>Most_of_the_time_or_always_felt_lonely</th>\n",
       "      <th>Missed_classes_or_school_without_permission</th>\n",
       "      <th>body_level</th>\n",
       "      <th>engaged_in_a_fight</th>\n",
       "      <th>Age</th>\n",
       "      <th>Bullied_Outside_School</th>\n",
       "      <th>Bullied_in_school</th>\n",
       "    </tr>\n",
       "  </thead>\n",
       "  <tbody>\n",
       "    <tr>\n",
       "      <th>0</th>\n",
       "      <td>3</td>\n",
       "      <td>14</td>\n",
       "      <td>1</td>\n",
       "      <td>0</td>\n",
       "      <td>0</td>\n",
       "      <td>0</td>\n",
       "      <td>3</td>\n",
       "      <td>0</td>\n",
       "      <td>2</td>\n",
       "      <td>4</td>\n",
       "      <td>False</td>\n",
       "      <td>False</td>\n",
       "      <td>1.0</td>\n",
       "      <td>False</td>\n",
       "      <td>14</td>\n",
       "      <td>False</td>\n",
       "      <td>False</td>\n",
       "    </tr>\n",
       "    <tr>\n",
       "      <th>1</th>\n",
       "      <td>6</td>\n",
       "      <td>13</td>\n",
       "      <td>1</td>\n",
       "      <td>0</td>\n",
       "      <td>1</td>\n",
       "      <td>0</td>\n",
       "      <td>3</td>\n",
       "      <td>0</td>\n",
       "      <td>3</td>\n",
       "      <td>4</td>\n",
       "      <td>False</td>\n",
       "      <td>False</td>\n",
       "      <td>1.0</td>\n",
       "      <td>True</td>\n",
       "      <td>13</td>\n",
       "      <td>False</td>\n",
       "      <td>False</td>\n",
       "    </tr>\n",
       "    <tr>\n",
       "      <th>2</th>\n",
       "      <td>11</td>\n",
       "      <td>15</td>\n",
       "      <td>1</td>\n",
       "      <td>0</td>\n",
       "      <td>1</td>\n",
       "      <td>0</td>\n",
       "      <td>3</td>\n",
       "      <td>3</td>\n",
       "      <td>3</td>\n",
       "      <td>4</td>\n",
       "      <td>False</td>\n",
       "      <td>True</td>\n",
       "      <td>1.0</td>\n",
       "      <td>True</td>\n",
       "      <td>15</td>\n",
       "      <td>False</td>\n",
       "      <td>False</td>\n",
       "    </tr>\n",
       "    <tr>\n",
       "      <th>3</th>\n",
       "      <td>23</td>\n",
       "      <td>13</td>\n",
       "      <td>1</td>\n",
       "      <td>0</td>\n",
       "      <td>2</td>\n",
       "      <td>3</td>\n",
       "      <td>3</td>\n",
       "      <td>0</td>\n",
       "      <td>1</td>\n",
       "      <td>4</td>\n",
       "      <td>True</td>\n",
       "      <td>False</td>\n",
       "      <td>1.0</td>\n",
       "      <td>True</td>\n",
       "      <td>13</td>\n",
       "      <td>True</td>\n",
       "      <td>False</td>\n",
       "    </tr>\n",
       "    <tr>\n",
       "      <th>4</th>\n",
       "      <td>24</td>\n",
       "      <td>14</td>\n",
       "      <td>1</td>\n",
       "      <td>0</td>\n",
       "      <td>2</td>\n",
       "      <td>3</td>\n",
       "      <td>2</td>\n",
       "      <td>0</td>\n",
       "      <td>4</td>\n",
       "      <td>2</td>\n",
       "      <td>True</td>\n",
       "      <td>False</td>\n",
       "      <td>3.0</td>\n",
       "      <td>True</td>\n",
       "      <td>14</td>\n",
       "      <td>False</td>\n",
       "      <td>False</td>\n",
       "    </tr>\n",
       "  </tbody>\n",
       "</table>\n",
       "</div>"
      ],
      "text/plain": [
       "   record  Custom_Age  Sex  Physically_attacked  Physical_fighting   \n",
       "0       3          14    1                    0                  0  \\\n",
       "1       6          13    1                    0                  1   \n",
       "2      11          15    1                    0                  1   \n",
       "3      23          13    1                    0                  2   \n",
       "4      24          14    1                    0                  2   \n",
       "\n",
       "   Felt_lonely  Close_friends  Miss_school_no_permission   \n",
       "0            0              3                          0  \\\n",
       "1            0              3                          0   \n",
       "2            0              3                          3   \n",
       "3            3              3                          0   \n",
       "4            3              2                          0   \n",
       "\n",
       "   Other_students_kind_and_helpful  Parents_understand_problems   \n",
       "0                                2                            4  \\\n",
       "1                                3                            4   \n",
       "2                                3                            4   \n",
       "3                                1                            4   \n",
       "4                                4                            2   \n",
       "\n",
       "   Most_of_the_time_or_always_felt_lonely   \n",
       "0                                   False  \\\n",
       "1                                   False   \n",
       "2                                   False   \n",
       "3                                    True   \n",
       "4                                    True   \n",
       "\n",
       "   Missed_classes_or_school_without_permission  body_level   \n",
       "0                                        False         1.0  \\\n",
       "1                                        False         1.0   \n",
       "2                                         True         1.0   \n",
       "3                                        False         1.0   \n",
       "4                                        False         3.0   \n",
       "\n",
       "   engaged_in_a_fight  Age  Bullied_Outside_School  Bullied_in_school  \n",
       "0               False   14                   False              False  \n",
       "1                True   13                   False              False  \n",
       "2                True   15                   False              False  \n",
       "3                True   13                    True              False  \n",
       "4                True   14                   False              False  "
      ]
     },
     "execution_count": 10,
     "metadata": {},
     "output_type": "execute_result"
    }
   ],
   "source": [
    "new_df = df.copy()\n",
    "new_df['Age'] = new_df['Custom_Age']\n",
    "new_df.drop(columns=['Custom_Age'])\n",
    "new_df['Bullied_Outside_School'] = False*len(new_df)\n",
    "new_df.loc[(new_df['Bullied_not_on_school_property_in_past_12_months']=='Yes') | (new_df['Cyber_bullied_in_past_12_months']=='Yes'), 'Bullied_Outside_School'] = True\n",
    "new_df['Bullied_Outside_School'] = new_df['Bullied_Outside_School'].astype('bool')\n",
    "\n",
    "new_df['Bullied_in_school'] = False*len(new_df)\n",
    "new_df.loc[new_df['Bullied_on_school_property_in_past_12_months']=='Yes', 'Bullied_in_school'] = True\n",
    "new_df['Bullied_in_school'] = new_df['Bullied_in_school'].astype('bool')\n",
    "\n",
    "\n",
    "new_df.drop(columns=['Bullied_not_on_school_property_in_past_12_months', 'Cyber_bullied_in_past_12_months', 'Bullied_on_school_property_in_past_12_months'], inplace=True)\n",
    "\n",
    "new_df.head()"
   ]
  },
  {
   "cell_type": "code",
   "execution_count": 11,
   "metadata": {},
   "outputs": [],
   "source": [
    "# Import train_test_split function\n",
    "from sklearn.model_selection import train_test_split\n",
    "\n",
    "# Split dataset into training set and test set\n",
    "features = new_df.drop(columns=['Bullied_in_school','Bullied_Outside_School'])\n",
    "target_smaller_population = new_df['Bullied_in_school']\n",
    "target_bigger_population = new_df['Bullied_Outside_School']\n",
    "X_train, X_test, y_train, y_test = train_test_split(features, target_smaller_population, test_size=0.3,random_state=109) # 70% training and 30% test"
   ]
  },
  {
   "attachments": {},
   "cell_type": "markdown",
   "metadata": {},
   "source": [
    "### Training the model and tuning hyperparameters"
   ]
  },
  {
   "cell_type": "code",
   "execution_count": 12,
   "metadata": {},
   "outputs": [],
   "source": [
    "#Import svm model\n",
    "from sklearn import svm\n",
    "\n",
    "#Create a svm Classifier\n",
    "clf_linear = svm.SVC(kernel='linear') # Linear Kernel\n",
    "\n",
    "#Train the model using the training sets\n",
    "clf_linear.fit(X_train, y_train)\n",
    "\n",
    "#Predict the response for test dataset\n",
    "y_pred = clf_linear.predict(X_test)"
   ]
  },
  {
   "cell_type": "code",
   "execution_count": 13,
   "metadata": {},
   "outputs": [
    {
     "name": "stdout",
     "output_type": "stream",
     "text": [
      "############################################# USING LINEAR KERNEL #####################################################\n",
      "Accuracy: 0.7828374822910342\n",
      "Confusion Matrix:\n",
      " [[7579  203]\n",
      " [1943  157]]\n",
      "classification_report:\n",
      "               precision    recall  f1-score   support\n",
      "\n",
      "       False       0.80      0.97      0.88      7782\n",
      "        True       0.44      0.07      0.13      2100\n",
      "\n",
      "    accuracy                           0.78      9882\n",
      "   macro avg       0.62      0.52      0.50      9882\n",
      "weighted avg       0.72      0.78      0.72      9882\n",
      "\n"
     ]
    }
   ],
   "source": [
    "from sklearn.metrics import accuracy_score, confusion_matrix, classification_report\n",
    "\n",
    "# Model Accuracy: how often is the classifier correct?\n",
    "print(\"############################################# USING LINEAR KERNEL #####################################################\")\n",
    "print(\"Accuracy:\",accuracy_score(y_test, y_pred))\n",
    "print(\"Confusion Matrix:\\n\",confusion_matrix(y_test, y_pred))\n",
    "print(\"classification_report:\\n\",classification_report(y_test, y_pred))"
   ]
  },
  {
   "cell_type": "code",
   "execution_count": 14,
   "metadata": {},
   "outputs": [
    {
     "name": "stdout",
     "output_type": "stream",
     "text": [
      "############################################# USING POLYNOMIAL KERNEL #####################################################\n",
      "Accuracy Using Polynomial Kernel: 0.7874924104432302\n",
      "Confusion Matrix:\n",
      " [[7782    0]\n",
      " [2100    0]]\n",
      "classification_report:\n",
      "               precision    recall  f1-score   support\n",
      "\n",
      "       False       0.79      1.00      0.88      7782\n",
      "        True       0.00      0.00      0.00      2100\n",
      "\n",
      "    accuracy                           0.79      9882\n",
      "   macro avg       0.39      0.50      0.44      9882\n",
      "weighted avg       0.62      0.79      0.69      9882\n",
      "\n"
     ]
    },
    {
     "name": "stderr",
     "output_type": "stream",
     "text": [
      "C:\\Users\\swak\\AppData\\Local\\Programs\\Python\\Python311\\Lib\\site-packages\\sklearn\\metrics\\_classification.py:1344: UndefinedMetricWarning: Precision and F-score are ill-defined and being set to 0.0 in labels with no predicted samples. Use `zero_division` parameter to control this behavior.\n",
      "  _warn_prf(average, modifier, msg_start, len(result))\n",
      "C:\\Users\\swak\\AppData\\Local\\Programs\\Python\\Python311\\Lib\\site-packages\\sklearn\\metrics\\_classification.py:1344: UndefinedMetricWarning: Precision and F-score are ill-defined and being set to 0.0 in labels with no predicted samples. Use `zero_division` parameter to control this behavior.\n",
      "  _warn_prf(average, modifier, msg_start, len(result))\n",
      "C:\\Users\\swak\\AppData\\Local\\Programs\\Python\\Python311\\Lib\\site-packages\\sklearn\\metrics\\_classification.py:1344: UndefinedMetricWarning: Precision and F-score are ill-defined and being set to 0.0 in labels with no predicted samples. Use `zero_division` parameter to control this behavior.\n",
      "  _warn_prf(average, modifier, msg_start, len(result))\n"
     ]
    }
   ],
   "source": [
    "#Import svm model\n",
    "from sklearn import svm\n",
    "\n",
    "#Create a svm Classifier\n",
    "clf_poly= svm.SVC(kernel='poly') # Linear Kernel\n",
    "\n",
    "#Train the model using the training sets\n",
    "clf_poly.fit(X_train, y_train)\n",
    "\n",
    "#Predict the response for test dataset\n",
    "y_pred = clf_poly.predict(X_test)\n",
    "from sklearn.metrics import accuracy_score, confusion_matrix, classification_report\n",
    "\n",
    "# Model Accuracy: how often is the classifier correct?\n",
    "print(\"############################################# USING POLYNOMIAL KERNEL #####################################################\")\n",
    "print(\"Accuracy Using Polynomial Kernel:\",accuracy_score(y_test, y_pred))\n",
    "print(\"Confusion Matrix:\\n\",confusion_matrix(y_test, y_pred))\n",
    "print(\"classification_report:\\n\",classification_report(y_test, y_pred))"
   ]
  },
  {
   "cell_type": "code",
   "execution_count": 15,
   "metadata": {},
   "outputs": [
    {
     "name": "stdout",
     "output_type": "stream",
     "text": [
      "############################################# USING RBF KERNEL #####################################################\n",
      "Accuracy Using Polynomial Kernel: 0.7874924104432302\n",
      "Confusion Matrix:\n",
      " [[7782    0]\n",
      " [2100    0]]\n",
      "classification_report:\n",
      "               precision    recall  f1-score   support\n",
      "\n",
      "       False       0.79      1.00      0.88      7782\n",
      "        True       0.00      0.00      0.00      2100\n",
      "\n",
      "    accuracy                           0.79      9882\n",
      "   macro avg       0.39      0.50      0.44      9882\n",
      "weighted avg       0.62      0.79      0.69      9882\n",
      "\n"
     ]
    },
    {
     "name": "stderr",
     "output_type": "stream",
     "text": [
      "C:\\Users\\swak\\AppData\\Local\\Programs\\Python\\Python311\\Lib\\site-packages\\sklearn\\metrics\\_classification.py:1344: UndefinedMetricWarning: Precision and F-score are ill-defined and being set to 0.0 in labels with no predicted samples. Use `zero_division` parameter to control this behavior.\n",
      "  _warn_prf(average, modifier, msg_start, len(result))\n",
      "C:\\Users\\swak\\AppData\\Local\\Programs\\Python\\Python311\\Lib\\site-packages\\sklearn\\metrics\\_classification.py:1344: UndefinedMetricWarning: Precision and F-score are ill-defined and being set to 0.0 in labels with no predicted samples. Use `zero_division` parameter to control this behavior.\n",
      "  _warn_prf(average, modifier, msg_start, len(result))\n",
      "C:\\Users\\swak\\AppData\\Local\\Programs\\Python\\Python311\\Lib\\site-packages\\sklearn\\metrics\\_classification.py:1344: UndefinedMetricWarning: Precision and F-score are ill-defined and being set to 0.0 in labels with no predicted samples. Use `zero_division` parameter to control this behavior.\n",
      "  _warn_prf(average, modifier, msg_start, len(result))\n"
     ]
    }
   ],
   "source": [
    "#Import svm model\n",
    "from sklearn import svm\n",
    "\n",
    "#Create a svm Classifier\n",
    "clf_rbf = svm.SVC(kernel='rbf') # Linear Kernel\n",
    "\n",
    "#Train the model using the training sets\n",
    "clf_rbf.fit(X_train, y_train)\n",
    "\n",
    "#Predict the response for test dataset\n",
    "y_pred = clf_rbf.predict(X_test)\n",
    "from sklearn.metrics import accuracy_score, confusion_matrix, classification_report\n",
    "\n",
    "# Model Accuracy: how often is the classifier correct?\n",
    "print(\"############################################# USING RBF KERNEL #####################################################\")\n",
    "print(\"Accuracy Using Polynomial Kernel:\",accuracy_score(y_test, y_pred))\n",
    "print(\"Confusion Matrix:\\n\",confusion_matrix(y_test, y_pred))\n",
    "print(\"classification_report:\\n\",classification_report(y_test, y_pred))"
   ]
  },
  {
   "cell_type": "code",
   "execution_count": 16,
   "metadata": {},
   "outputs": [
    {
     "name": "stdout",
     "output_type": "stream",
     "text": [
      "############################################# USING RBF KERNEL #####################################################\n",
      "Accuracy Using Polynomial Kernel: 0.6646427848613641\n",
      "Confusion Matrix:\n",
      " [[6147 1635]\n",
      " [1679  421]]\n",
      "classification_report:\n",
      "               precision    recall  f1-score   support\n",
      "\n",
      "       False       0.79      0.79      0.79      7782\n",
      "        True       0.20      0.20      0.20      2100\n",
      "\n",
      "    accuracy                           0.66      9882\n",
      "   macro avg       0.50      0.50      0.50      9882\n",
      "weighted avg       0.66      0.66      0.66      9882\n",
      "\n"
     ]
    }
   ],
   "source": [
    "#Import svm model\n",
    "from sklearn import svm\n",
    "\n",
    "#Create a svm Classifier\n",
    "clf_sigmoid = svm.SVC(kernel='sigmoid') # Linear Kernel\n",
    "\n",
    "#Train the model using the training sets\n",
    "clf_sigmoid.fit(X_train, y_train)\n",
    "\n",
    "#Predict the response for test dataset\n",
    "y_pred = clf_sigmoid.predict(X_test)\n",
    "from sklearn.metrics import accuracy_score, confusion_matrix, classification_report\n",
    "\n",
    "# Model Accuracy: how often is the classifier correct?\n",
    "print(\"############################################# USING RBF KERNEL #####################################################\")\n",
    "print(\"Accuracy Using Polynomial Kernel:\",accuracy_score(y_test, y_pred))\n",
    "print(\"Confusion Matrix:\\n\",confusion_matrix(y_test, y_pred))\n",
    "print(\"classification_report:\\n\",classification_report(y_test, y_pred))"
   ]
  },
  {
   "attachments": {},
   "cell_type": "markdown",
   "metadata": {},
   "source": [
    "### We will use the linear kernel, now try to infer on the larger population"
   ]
  },
  {
   "cell_type": "code",
   "execution_count": 17,
   "metadata": {},
   "outputs": [
    {
     "name": "stdout",
     "output_type": "stream",
     "text": [
      "############################################# INFERENTIAL RESULTS #####################################################\n",
      "Accuracy Using LINEAR Kernel: 0.675571746609998\n",
      "Confusion Matrix:\n",
      " [[6473  157]\n",
      " [3049  203]]\n",
      "classification_report:\n",
      "               precision    recall  f1-score   support\n",
      "\n",
      "       False       0.68      0.98      0.80      6630\n",
      "        True       0.56      0.06      0.11      3252\n",
      "\n",
      "    accuracy                           0.68      9882\n",
      "   macro avg       0.62      0.52      0.46      9882\n",
      "weighted avg       0.64      0.68      0.57      9882\n",
      "\n"
     ]
    }
   ],
   "source": [
    "X_infer_train, X_infer_test, y_infer_train, y_test = train_test_split(features, target_bigger_population, test_size=0.3,random_state=109) # 70% training and 30% test\n",
    "\n",
    "\n",
    "y_infer = clf_linear.predict(X_infer_test)\n",
    "\n",
    "# Model Accuracy: how often is the classifier correct?\n",
    "print(\"############################################# INFERENTIAL RESULTS #####################################################\")\n",
    "print(\"Accuracy Using LINEAR Kernel:\",accuracy_score(y_test, y_infer))\n",
    "print(\"Confusion Matrix:\\n\",confusion_matrix(y_test, y_infer))\n",
    "print(\"classification_report:\\n\",classification_report(y_test, y_infer))"
   ]
  },
  {
   "cell_type": "code",
   "execution_count": 18,
   "metadata": {},
   "outputs": [],
   "source": [
    "import pickle\n",
    "pickle.dump(clf_linear, open('SVM_linear.pkl', \"wb\"))"
   ]
  }
 ],
 "metadata": {
  "kernelspec": {
   "display_name": "Python 3",
   "language": "python",
   "name": "python3"
  },
  "language_info": {
   "codemirror_mode": {
    "name": "ipython",
    "version": 3
   },
   "file_extension": ".py",
   "mimetype": "text/x-python",
   "name": "python",
   "nbconvert_exporter": "python",
   "pygments_lexer": "ipython3",
   "version": "3.11.3"
  },
  "orig_nbformat": 4
 },
 "nbformat": 4,
 "nbformat_minor": 2
}
